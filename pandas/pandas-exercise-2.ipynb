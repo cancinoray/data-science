{
 "cells": [
  {
   "cell_type": "code",
   "execution_count": null,
   "id": "3e21cc72",
   "metadata": {},
   "outputs": [],
   "source": [
    "\n",
    "\n",
    "\n",
    "\n",
    "\n",
    "\n",
    "\n",
    "\n",
    "\n",
    "\n",
    "\n",
    "\n",
    "\n",
    "\n",
    "\n",
    "\n",
    "\n",
    "\n",
    "\n",
    "\n",
    "I hope these exercises help you practice and improve your skills with Pandas!"
   ]
  },
  {
   "cell_type": "code",
   "execution_count": null,
   "id": "34eaba4b",
   "metadata": {},
   "outputs": [],
   "source": [
    "#Load a CSV file into a DataFrame, and display the first five rows."
   ]
  },
  {
   "cell_type": "code",
   "execution_count": null,
   "id": "eece84b2",
   "metadata": {},
   "outputs": [],
   "source": [
    "#Create a new column in the DataFrame that calculates the product of two existing columns."
   ]
  },
  {
   "cell_type": "code",
   "execution_count": null,
   "id": "ef6c8ab4",
   "metadata": {},
   "outputs": [],
   "source": [
    "#Select rows in the DataFrame where the value in a certain column is greater than a specific value."
   ]
  },
  {
   "cell_type": "code",
   "execution_count": null,
   "id": "c3cfed4f",
   "metadata": {},
   "outputs": [],
   "source": [
    "#Group the DataFrame by a certain column, and calculate the mean of another column."
   ]
  },
  {
   "cell_type": "code",
   "execution_count": null,
   "id": "535520b2",
   "metadata": {},
   "outputs": [],
   "source": [
    "#Merge two DataFrames on a specific column."
   ]
  },
  {
   "cell_type": "code",
   "execution_count": 1,
   "id": "28f4a619",
   "metadata": {},
   "outputs": [],
   "source": [
    "#Reshape a DataFrame using the melt() function."
   ]
  },
  {
   "cell_type": "code",
   "execution_count": null,
   "id": "e969cb55",
   "metadata": {},
   "outputs": [],
   "source": [
    "#Pivot a DataFrame using the pivot() function."
   ]
  },
  {
   "cell_type": "code",
   "execution_count": null,
   "id": "0574da47",
   "metadata": {},
   "outputs": [],
   "source": [
    "#Rename a column in a DataFrame."
   ]
  },
  {
   "cell_type": "code",
   "execution_count": null,
   "id": "02910c18",
   "metadata": {},
   "outputs": [],
   "source": [
    "#Remove a row or column from a DataFrame."
   ]
  },
  {
   "cell_type": "code",
   "execution_count": null,
   "id": "2de8a903",
   "metadata": {},
   "outputs": [],
   "source": [
    "#Write a function that takes a DataFrame as an input, and returns a new DataFrame with a calculated column."
   ]
  }
 ],
 "metadata": {
  "kernelspec": {
   "display_name": "Python 3 (ipykernel)",
   "language": "python",
   "name": "python3"
  },
  "language_info": {
   "codemirror_mode": {
    "name": "ipython",
    "version": 3
   },
   "file_extension": ".py",
   "mimetype": "text/x-python",
   "name": "python",
   "nbconvert_exporter": "python",
   "pygments_lexer": "ipython3",
   "version": "3.10.9"
  }
 },
 "nbformat": 4,
 "nbformat_minor": 5
}
